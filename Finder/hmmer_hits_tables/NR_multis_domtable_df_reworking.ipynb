{
 "cells": [
  {
   "cell_type": "code",
   "execution_count": 3,
   "id": "2590c7c9-4382-4071-946b-91236dc0610f",
   "metadata": {},
   "outputs": [],
   "source": [
    "import pandas as pd\n",
    "import numpy as np\n",
    "import os\n",
    "import glob\n"
   ]
  },
  {
   "cell_type": "code",
   "execution_count": 4,
   "id": "0ac3aa5d-83a7-44bb-b3d6-6c9ac89f9d82",
   "metadata": {},
   "outputs": [],
   "source": [
    "\n",
    "dom_multi= pd.read_csv('/home/gridsan/lbrenes/hhpred/hhblts/hhmscan_multis_nr/multi_extended_gene_systems_NR_hits_dom.txt',sep = ' ',comment = '#',header = None,skipinitialspace=True,usecols=[0,1,2,3,4,5,6,7,8,9,10,11,12,13,14,15,16,17,18,19,20,21],names=['target_name','target_accession','tlen','query_name','accession','qlen','E-value','score','bias','dom_#','totaldom_#','c-Evalue','i-Evalue','score_dom','bias_dom','from_hmm_coord','to_hmm_coord','from_ali_coord','to_ali_coord','from_env_coord','to_env_coord','acc'])"
   ]
  },
  {
   "cell_type": "code",
   "execution_count": 5,
   "id": "fa9382f6-a48b-4aaa-b3c8-8ee87f6cb613",
   "metadata": {},
   "outputs": [],
   "source": [
    "dom_multi_sorted=dom_multi.sort_values(by='score_dom', ascending=False,ignore_index=False)"
   ]
  },
  {
   "cell_type": "code",
   "execution_count": 6,
   "id": "9613b5fa-2ec6-4493-baed-218f09abeabc",
   "metadata": {},
   "outputs": [],
   "source": [
    "dom_multi_nodupes=dom_multi_sorted.drop_duplicates(subset=\"query_name\",keep=\"first\")"
   ]
  },
  {
   "cell_type": "code",
   "execution_count": 7,
   "id": "63a3d4a7-32e4-4603-84b6-2c7f658dde15",
   "metadata": {},
   "outputs": [],
   "source": [
    "scan_sorted=dom_multi_nodupes.sort_index()"
   ]
  },
  {
   "cell_type": "code",
   "execution_count": 8,
   "id": "17cf21af-9695-44c8-b7e2-062de06340f1",
   "metadata": {},
   "outputs": [],
   "source": [
    "scan_sorted = scan_sorted.set_axis(range(len(scan_sorted)))\n",
    "\n",
    "scan_sorted_reset = scan_sorted.reset_index(drop=True)"
   ]
  },
  {
   "cell_type": "code",
   "execution_count": 9,
   "id": "32eddbaa-a60c-47ef-879e-ba3f1f6602ae",
   "metadata": {},
   "outputs": [],
   "source": [
    "scan_sorted_reset.to_csv('~/hhpred/hhblts/hhmscan_multis_nr/multi_extended_gene_systems_NR_hits_dom_nodupes.csv')"
   ]
  },
  {
   "cell_type": "code",
   "execution_count": 10,
   "id": "ca190a76-3c4a-4816-b930-8b5fa9032629",
   "metadata": {},
   "outputs": [],
   "source": [
    "multi_scan_dom = pd.read_csv('/home/gridsan/lbrenes/hhpred/hhblts/hhmscan_multis_nr/multi_extended_gene_systems_NR_hits_dom_nodupes.csv')"
   ]
  },
  {
   "cell_type": "code",
   "execution_count": 12,
   "id": "2b227349-d05a-4ba9-8c8c-f0cc8f03aeed",
   "metadata": {},
   "outputs": [],
   "source": [
    "def gene_size(target_name):\n",
    "    if target_name == 'PhiR44.1_MorcDcm_system_Morc.extendedcov.blts':\n",
    "        return 652\n",
    "    elif target_name == 'PhiR47.2_GNAT_TA_Toxin.extendedcov.blts':\n",
    "        return 357\n",
    "    elif target_name == 'mEp506_small_sys_DUF2594.extendedcov.blts':\n",
    "        return 71"
   ]
  },
  {
   "cell_type": "code",
   "execution_count": 13,
   "id": "cc165edf-3900-4bf4-b355-28a9cc9984a7",
   "metadata": {},
   "outputs": [],
   "source": [
    "multi_scan_dom['system_len'] = multi_scan_dom['target_name'].apply(gene_size)"
   ]
  },
  {
   "cell_type": "code",
   "execution_count": 14,
   "id": "a1528c79-91a0-4c30-8cea-a90e0e4a1ffe",
   "metadata": {
    "tags": []
   },
   "outputs": [],
   "source": [
    "multi_scan_dom['align_len'] = multi_scan_dom.apply(lambda x: x['to_ali_coord'] - x['from_ali_coord'], axis=1)\n",
    "multi_scan_dom['align_len_to_tlen'] = multi_scan_dom.apply(lambda x: x['align_len'] / x['tlen'], axis=1)\n",
    "multi_scan_dom['full_len_comp'] = multi_scan_dom.apply(lambda x: x['qlen'] / x['system_len'], axis=1)"
   ]
  },
  {
   "cell_type": "code",
   "execution_count": 15,
   "id": "d17cf339-372e-47c8-9655-ba10f1c0275b",
   "metadata": {},
   "outputs": [],
   "source": [
    "multi_scan_dom_filtered=multi_scan_dom[multi_scan_dom[\"full_len_comp\"]<=1.3]"
   ]
  },
  {
   "cell_type": "code",
   "execution_count": 16,
   "id": "57e24d8d-2b42-41a3-bb1b-14ad7aa0bb0e",
   "metadata": {},
   "outputs": [],
   "source": [
    "multi_scan_dom_filtered=multi_scan_dom_filtered[multi_scan_dom_filtered[\"full_len_comp\"]>=0.7]"
   ]
  },
  {
   "cell_type": "code",
   "execution_count": 17,
   "id": "ec532bb0-b0ec-4b58-8b93-7d39ce9c6a55",
   "metadata": {},
   "outputs": [],
   "source": [
    "multi_scan_dom_filtered=multi_scan_dom_filtered[multi_scan_dom_filtered[\"align_len_to_tlen\"]>=0.7]"
   ]
  },
  {
   "cell_type": "code",
   "execution_count": 18,
   "id": "45c57368-9aa0-4f6d-9131-99bc68c95b3f",
   "metadata": {},
   "outputs": [],
   "source": [
    "multi_scan_dom_filtered=multi_scan_dom_filtered[multi_scan_dom_filtered[\"align_len_to_tlen\"]<=1.3]"
   ]
  },
  {
   "cell_type": "code",
   "execution_count": 19,
   "id": "824caa90-0872-4757-b453-45ab90ea2f24",
   "metadata": {},
   "outputs": [],
   "source": [
    "multi_scan_dom_filtered.to_csv('multi_extended_gene_systems_NR_hits_filtered_dom_nodupes.csv')"
   ]
  },
  {
   "cell_type": "code",
   "execution_count": 20,
   "id": "ccbca55a-5ebd-4a6c-9673-707260b1ff95",
   "metadata": {},
   "outputs": [],
   "source": [
    "filtered_multi_scan_dom = pd.read_csv('/home/gridsan/lbrenes/hhpred/hhblts/hhmscan_multis_nr/multi_extended_gene_systems_NR_hits_filtered_dom_nodupes.csv')"
   ]
  },
  {
   "cell_type": "code",
   "execution_count": 30,
   "id": "06547c1d-db61-4fd0-9520-4b866e64d552",
   "metadata": {},
   "outputs": [
    {
     "data": {
      "text/html": [
       "<div>\n",
       "<style scoped>\n",
       "    .dataframe tbody tr th:only-of-type {\n",
       "        vertical-align: middle;\n",
       "    }\n",
       "\n",
       "    .dataframe tbody tr th {\n",
       "        vertical-align: top;\n",
       "    }\n",
       "\n",
       "    .dataframe thead th {\n",
       "        text-align: right;\n",
       "    }\n",
       "</style>\n",
       "<table border=\"1\" class=\"dataframe\">\n",
       "  <thead>\n",
       "    <tr style=\"text-align: right;\">\n",
       "      <th></th>\n",
       "      <th>Domain</th>\n",
       "      <th>DomainAcc</th>\n",
       "      <th>Query</th>\n",
       "    </tr>\n",
       "  </thead>\n",
       "  <tbody>\n",
       "    <tr>\n",
       "      <th>0</th>\n",
       "      <td>PhiR44.1_MorcDcm_system_Morc.extendedcov.blts</td>\n",
       "      <td>-</td>\n",
       "      <td>MDD2906673.1</td>\n",
       "    </tr>\n",
       "    <tr>\n",
       "      <th>1</th>\n",
       "      <td>PhiR47.2_GNAT_TA_Toxin.extendedcov.blts</td>\n",
       "      <td>-</td>\n",
       "      <td>WP_262158147.1</td>\n",
       "    </tr>\n",
       "    <tr>\n",
       "      <th>2</th>\n",
       "      <td>PhiR44.1_MorcDcm_system_Morc.extendedcov.blts</td>\n",
       "      <td>-</td>\n",
       "      <td>MCH5323759.1</td>\n",
       "    </tr>\n",
       "    <tr>\n",
       "      <th>3</th>\n",
       "      <td>PhiR44.1_MorcDcm_system_Morc.extendedcov.blts</td>\n",
       "      <td>-</td>\n",
       "      <td>WP_209450919.1</td>\n",
       "    </tr>\n",
       "    <tr>\n",
       "      <th>4</th>\n",
       "      <td>PhiR44.1_MorcDcm_system_Morc.extendedcov.blts</td>\n",
       "      <td>-</td>\n",
       "      <td>OGO90865.1</td>\n",
       "    </tr>\n",
       "    <tr>\n",
       "      <th>...</th>\n",
       "      <td>...</td>\n",
       "      <td>...</td>\n",
       "      <td>...</td>\n",
       "    </tr>\n",
       "    <tr>\n",
       "      <th>29773</th>\n",
       "      <td>PhiR47.2_GNAT_TA_Toxin.extendedcov.blts</td>\n",
       "      <td>-</td>\n",
       "      <td>WP_131284463.1</td>\n",
       "    </tr>\n",
       "    <tr>\n",
       "      <th>29774</th>\n",
       "      <td>PhiR44.1_MorcDcm_system_Morc.extendedcov.blts</td>\n",
       "      <td>-</td>\n",
       "      <td>MDA9946675.1</td>\n",
       "    </tr>\n",
       "    <tr>\n",
       "      <th>29775</th>\n",
       "      <td>PhiR44.1_MorcDcm_system_Morc.extendedcov.blts</td>\n",
       "      <td>-</td>\n",
       "      <td>EKE3731890.1</td>\n",
       "    </tr>\n",
       "    <tr>\n",
       "      <th>29776</th>\n",
       "      <td>PhiR44.1_MorcDcm_system_Morc.extendedcov.blts</td>\n",
       "      <td>-</td>\n",
       "      <td>WP_060616220.1</td>\n",
       "    </tr>\n",
       "    <tr>\n",
       "      <th>29777</th>\n",
       "      <td>PhiR44.1_MorcDcm_system_Morc.extendedcov.blts</td>\n",
       "      <td>-</td>\n",
       "      <td>WP_294963591.1</td>\n",
       "    </tr>\n",
       "  </tbody>\n",
       "</table>\n",
       "<p>29778 rows × 3 columns</p>\n",
       "</div>"
      ],
      "text/plain": [
       "                                              Domain DomainAcc           Query\n",
       "0      PhiR44.1_MorcDcm_system_Morc.extendedcov.blts         -    MDD2906673.1\n",
       "1            PhiR47.2_GNAT_TA_Toxin.extendedcov.blts         -  WP_262158147.1\n",
       "2      PhiR44.1_MorcDcm_system_Morc.extendedcov.blts         -    MCH5323759.1\n",
       "3      PhiR44.1_MorcDcm_system_Morc.extendedcov.blts         -  WP_209450919.1\n",
       "4      PhiR44.1_MorcDcm_system_Morc.extendedcov.blts         -      OGO90865.1\n",
       "...                                              ...       ...             ...\n",
       "29773        PhiR47.2_GNAT_TA_Toxin.extendedcov.blts         -  WP_131284463.1\n",
       "29774  PhiR44.1_MorcDcm_system_Morc.extendedcov.blts         -    MDA9946675.1\n",
       "29775  PhiR44.1_MorcDcm_system_Morc.extendedcov.blts         -    EKE3731890.1\n",
       "29776  PhiR44.1_MorcDcm_system_Morc.extendedcov.blts         -  WP_060616220.1\n",
       "29777  PhiR44.1_MorcDcm_system_Morc.extendedcov.blts         -  WP_294963591.1\n",
       "\n",
       "[29778 rows x 3 columns]"
      ]
     },
     "execution_count": 30,
     "metadata": {},
     "output_type": "execute_result"
    }
   ],
   "source": [
    "hmmerHits"
   ]
  },
  {
   "cell_type": "code",
   "execution_count": null,
   "id": "7e2e976b-4efb-4fa7-b300-1a074dfad2a6",
   "metadata": {},
   "outputs": [],
   "source": []
  }
 ],
 "metadata": {
  "kernelspec": {
   "display_name": "Python 3 (ipykernel)",
   "language": "python",
   "name": "python3"
  },
  "language_info": {
   "codemirror_mode": {
    "name": "ipython",
    "version": 3
   },
   "file_extension": ".py",
   "mimetype": "text/x-python",
   "name": "python",
   "nbconvert_exporter": "python",
   "pygments_lexer": "ipython3",
   "version": "3.9.15"
  }
 },
 "nbformat": 4,
 "nbformat_minor": 5
}
